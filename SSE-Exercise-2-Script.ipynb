{
 "cells": [
  {
   "cell_type": "markdown",
   "metadata": {},
   "source": [
    "# Load Libraries"
   ]
  },
  {
   "cell_type": "code",
   "execution_count": 1,
   "metadata": {},
   "outputs": [],
   "source": [
    "import numpy\n",
    "import pandas\n",
    "\n",
    "import os\n",
    "os.environ[\"GIT_PYTHON_GIT_EXECUTABLE\"] = \"C:\\Program Files\\Git\\cmd\\git.exe\"\n",
    "\n",
    "import git\n",
    "from git import RemoteProgress\n",
    "from git import Repo"
   ]
  },
  {
   "cell_type": "markdown",
   "metadata": {},
   "source": [
    "# Initialise & Clone Repos"
   ]
  },
  {
   "cell_type": "markdown",
   "metadata": {},
   "source": [
    "### Jenkins"
   ]
  },
  {
   "cell_type": "code",
   "execution_count": 2,
   "metadata": {},
   "outputs": [],
   "source": [
    "# Initialise and clone Jenkins repo\n",
    "jenkins_remote = \"https://github.com/jenkinsci/jenkins\"\n",
    "jenkins_local = \"repo/jenkins\"\n",
    "# Repo.clone_from(jenkins_remote, jenkins_local) # Uncomment to clone repo\n",
    "jenkins_repo = Repo(jenkins_local)\n",
    "jenkins_commit = \"8830d68f5fe21f344be3496984bc4470bfcd0564\""
   ]
  },
  {
   "cell_type": "markdown",
   "metadata": {},
   "source": [
    "### Jython"
   ]
  },
  {
   "cell_type": "code",
   "execution_count": 3,
   "metadata": {},
   "outputs": [],
   "source": [
    "# Initialise and clone Jython repo\n",
    "jython_remote = \"https://github.com/jythontools/jython\"\n",
    "jython_local = \"repo/jython\"\n",
    "# Repo.clone_from(jython_remote, jython_local) # Uncomment to clone repo\n",
    "jython_repo = Repo(jython_local)\n",
    "jython_commit = \"4c337213bd2964bb36cef2d31509b49647ca6f2a\""
   ]
  },
  {
   "cell_type": "markdown",
   "metadata": {},
   "source": [
    "### Camel"
   ]
  },
  {
   "cell_type": "code",
   "execution_count": 4,
   "metadata": {},
   "outputs": [],
   "source": [
    "# Initialise and clone Camel repo\n",
    "camel_remote = \"https://github.com/apache/camel\"\n",
    "camel_local = \"repo/camel\"\n",
    "# Repo.clone_from(camel_remote, camel_local) # Uncomment to clone repo\n",
    "camel_repo = Repo(camel_local)\n",
    "camel_commit = \"9c6a8f61de40c20f28240fbb2af4cb425793d41\""
   ]
  },
  {
   "cell_type": "markdown",
   "metadata": {},
   "source": [
    "## Commit Details"
   ]
  },
  {
   "cell_type": "markdown",
   "metadata": {},
   "source": [
    "### Jenkins"
   ]
  },
  {
   "cell_type": "markdown",
   "metadata": {},
   "source": [
    "__Title, Message, Files Affected, Directories Affected, Lines Deleted & Lines Added - With Comments & Blank Lines:__"
   ]
  },
  {
   "cell_type": "code",
   "execution_count": 5,
   "metadata": {},
   "outputs": [
    {
     "name": "stdout",
     "output_type": "stream",
     "text": [
      "commit 8830d68f5fe21f344be3496984bc4470bfcd0564\n",
      "Author: Jesse Glick <jglick@cloudbees.com>\n",
      "Date:   Thu Feb 8 15:37:47 2018 +0100\n",
      "\n",
      "    [SECURITY-717] Plugin.doDynamic check for WEB-INF or META-INF should be case-insensitive.\n",
      "\n",
      " core/src/main/java/hudson/Plugin.java     | 4 +++-\n",
      " test/src/test/java/hudson/PluginTest.java | 2 ++\n",
      " 2 files changed, 5 insertions(+), 1 deletion(-)\n",
      "  48.1% core/src/main/java/hudson/\n",
      "  51.8% test/src/test/java/hudson/\n"
     ]
    }
   ],
   "source": [
    "jenkins_data = jenkins_repo.git.show(\"--pretty=medium\", \"--stat\", \"--dirstat\", \"-1\", jenkins_commit).splitlines()\n",
    "for line in jenkins_data:\n",
    "    print(line)"
   ]
  },
  {
   "cell_type": "markdown",
   "metadata": {},
   "source": [
    "__Title, Message, Files Affected, Directories Affected, Lines Deleted & Lines Added - Without Comments & Blank Lines:__"
   ]
  },
  {
   "cell_type": "code",
   "execution_count": 6,
   "metadata": {},
   "outputs": [
    {
     "name": "stdout",
     "output_type": "stream",
     "text": [
      "commit 8830d68f5fe21f344be3496984bc4470bfcd0564\n",
      "Author: Jesse Glick <jglick@cloudbees.com>\n",
      "Date:   Thu Feb 8 15:37:47 2018 +0100\n",
      "\n",
      "    [SECURITY-717] Plugin.doDynamic check for WEB-INF or META-INF should be case-insensitive.\n",
      "\n",
      " core/src/main/java/hudson/Plugin.java     | 4 +++-\n",
      " test/src/test/java/hudson/PluginTest.java | 2 ++\n",
      " 2 files changed, 5 insertions(+), 1 deletion(-)\n",
      "  48.1% core/src/main/java/hudson/\n",
      "  51.8% test/src/test/java/hudson/\n"
     ]
    }
   ],
   "source": [
    "jenkins_data = jenkins_repo.git.show(\"--pretty=medium\", \"--stat\", \"--dirstat\", \"--ignore-blank-lines\", \"-1\", jenkins_commit).splitlines()\n",
    "for line in jenkins_data:\n",
    "    print(line)"
   ]
  },
  {
   "cell_type": "markdown",
   "metadata": {},
   "source": [
    "__Time Since Last Modification & Total Number Of Modifications Since Creation:__"
   ]
  },
  {
   "cell_type": "code",
   "execution_count": 7,
   "metadata": {},
   "outputs": [
    {
     "name": "stdout",
     "output_type": "stream",
     "text": [
      "core/src/main/java/hudson/Plugin.java:\n",
      "\n",
      "Thu Feb 8 15:37:47 2018 +0100\n",
      "Tue Jan 30 12:16:42 2018 -0500\n",
      "\n",
      "1: 8830d68f5f [SECURITY-717] Plugin.doDynamic check for WEB-INF or META-INF should be case-insensitive.\n",
      "2: eb03a42078 [SECURITY-705] Path traversal vulnerability in Plugin.doDynamic.\n",
      "3: 496703d0fe Spelling fixes in changelogs, Javadoc, logs and UI (#2718)\n",
      "4: 3a83504e3d Deprecating subclassing of Plugin.\n",
      "5: 1709ed3a2e Add @Deprecated annotations to things documented as @deprecated.\n",
      "6: c80741615b Revert \"This is failing the animal sniffer test\"\n",
      "7: 3e15684f75 This is failing the animal sniffer test\n",
      "8: 680c54887b Updating javadoc based on PR feedback\n",
      "9: 259f5e1780 Updating javadoc of Plugin, LabelAtomProperty, GlobalConfiguration with my observations from working on my plugin\n",
      "10: f0a29b562e [FIXED SECURITY-155] Do not allow plugin code to be downloaded via doDynamic, only static resources.\n",
      "11: 71a28615e3 [FIXED SECURITY-131] Recode restOfPath before constructing URLs from it, so it cannot be used for directory traversal.\n",
      "12: fe8f140f04 Recognize /static/.../ and serve long expiration headers.\n",
      "13: 386618dca4 support new JenkinsPlugin type (jpi)\n",
      "14: 481b43f607 defined a getter. needed by the ruby effort\n",
      "15: 73509dd151 clarifying the behaviour.\n",
      "16: 5679d019ec Move hudson.model.Jenkins to be jenkins.model.Jenkins - part II\n",
      "17: 70c1065814 Stage 1 : Create hudson.model.Jenkins, make Hudson derive from Jenkins.\n",
      "18: 5571e430d1 remove wasteful duplicate method calls\n",
      "19: 91bffe3b46 Adding SaveableListener, with calls to SaveableListener.fireOnChange in Saveable.save implementations\n",
      "20: cbb3e313ad Merged revisions 20928-20929,20939,20974-20975,20988,21009,21011,21015 via svnmerge from https://www.dev.java.net/svn/hudson/branches/rc\n",
      "21: b25351ccce Updated @since for tool auto-installation.\n",
      "22: ec6a98b64a recording the version where the tool-autoinstallation branch is merged\n",
      "23: 2a8a0bf7fa Merged revisions 17324-17325,17428,17430,17473-17475,17481-17482,17555-17563,17571,17593-17595,17619-17620,17637-17644,17656-17657,17663-17665,17667-17670,17730,17753,17755-17758,17763-17768,17770-17771,17901,17906,17911-17912,17958,17961-17962,17970-17977 via svnmerge from https://www.dev.java.net/svn/hudson/branches/tool-autoinstallation\n",
      "24: ee2dcbd3a5 added one more initialization hook.\n",
      "25: f1dfa6ff6d doc improvement\n",
      "26: 29697efdfa Plugin is now optional\n",
      "27: 1a1d0d74d5 license header clean up\n",
      "28: 8339f02284 Added a mechanism to perform a bulk change without intermediate save().\n",
      "29: 7b8f27fd18 doc improvement.\n",
      "30: 365665f37e defining methods for persisting data.\n",
      "31: 2764d166a3 Adding a mechanism for plugins to contribute to the global configuration page directly.\n",
      "32: 4ca8265e26 integrated locale-specific resource selection for plugins (http://www.nabble.com/I18n%3A-help.html-for-plugin-config-screen--tp16007552p16007552.html)\n",
      "33: 28663c1557 clarified that @plugin is no longer necessary.\n",
      "34: ead073885b doc improvement.\n",
      "35: 19860fa070 merging remoting-integration branch\n",
      "36: 41e35fc081 doc improvement.\n",
      "37: 239948d4d4 Some compiler lint.\n",
      "38: 8a0dc230f4 initial commit for a new layout.\n",
      "\n",
      "\n",
      "test/src/test/java/hudson/PluginTest.java:\n",
      "\n",
      "Thu Feb 8 15:37:47 2018 +0100\n",
      "Tue Jan 30 12:16:42 2018 -0500\n",
      "\n",
      "1: 8830d68f5f [SECURITY-717] Plugin.doDynamic check for WEB-INF or META-INF should be case-insensitive.\n",
      "2: eb03a42078 [SECURITY-705] Path traversal vulnerability in Plugin.doDynamic.\n",
      "3: a2ba196e63 test-annotations -> 1.2\n",
      "4: 2852afa96e comment\n",
      "5: f0a29b562e [FIXED SECURITY-155] Do not allow plugin code to be downloaded via doDynamic, only static resources.\n",
      "6: a623c8e30d Using proper @Issue annotation.\n",
      "7: 71a28615e3 [FIXED SECURITY-131] Recode restOfPath before constructing URLs from it, so it cannot be used for directory traversal.\n",
      "8: b1c82f1e30 stephenc asks to use TODO rather than XXX\n",
      "9: 688420177a [FIXED JENKINS-17933] Catch errors in init.groovy.\n",
      "10: fd31a5d85c [FIXED JENKINS-15309] Be robust against serialized ListView with jobNames==null.\n",
      "11: a8ba1162a3 Introduced MockFolder for testing.\n",
      "12: 2658f36994 Basic implementation of prevalidateConfig working.\n",
      "13: 06d4cf11a1 integrated custom annotation checker\n",
      "14: 1a1d0d74d5 license header clean up\n",
      "15: 17cecbc66b added another marker annotation.\n"
     ]
    }
   ],
   "source": [
    "file_1 = \"core/src/main/java/hudson/Plugin.java\"\n",
    "file_2 = \"test/src/test/java/hudson/PluginTest.java\"\n",
    "\n",
    "count = 0\n",
    "print(file_1 + \":\\n\")\n",
    "jenkins_data = jenkins_repo.git.log(\"--follow\", \"-n 2\", \"--format=%ad\", jenkins_commit, file_1).splitlines()\n",
    "for line in jenkins_data:\n",
    "    print(line)\n",
    "    \n",
    "print(\"\")\n",
    "jenkins_data = jenkins_repo.git.log(\"--follow\", \"--oneline\", jenkins_commit, file_1).splitlines()\n",
    "for line in jenkins_data:\n",
    "    count += 1\n",
    "    print(str(count) + \": \" + line)\n",
    "    \n",
    "count = 0\n",
    "print(\"\\n\")\n",
    "print(file_2 + \":\\n\")\n",
    "jenkins_data = jenkins_repo.git.log(\"--follow\", \"-n 2\", \"--format=%ad\", jenkins_commit, file_2).splitlines()\n",
    "for line in jenkins_data:\n",
    "    print(line)\n",
    "    \n",
    "print(\"\")\n",
    "jenkins_data = jenkins_repo.git.log(\"--follow\", \"--oneline\", jenkins_commit, file_2).splitlines()\n",
    "for line in jenkins_data:\n",
    "    count += 1\n",
    "    print(str(count) + \": \" + line)"
   ]
  },
  {
   "cell_type": "markdown",
   "metadata": {},
   "source": [
    "__Developers & Their Number Of Commits:__"
   ]
  },
  {
   "cell_type": "code",
   "execution_count": 8,
   "metadata": {},
   "outputs": [
    {
     "name": "stdout",
     "output_type": "stream",
     "text": [
      "core/src/main/java/hudson/Plugin.java:\n",
      "\n",
      "    17\tkohsuke <kohsuke@71c3de6d-444a-0410-be80-ed276b4c234a>\n",
      "     6\tJesse Glick <jglick@cloudbees.com>\n",
      "     4\tKohsuke Kawaguchi <kk@kohsuke.org>\n",
      "     2\tDominique <dominiquebrice@users.noreply.github.com>\n",
      "     2\tNigel Magnay <nigel.magnay@gmail.com>\n",
      "     2\tjglick <jglick@71c3de6d-444a-0410-be80-ed276b4c234a>\n",
      "     1\tDave Brosius <dbrosius@mebigfatguy.com>\n",
      "     1\tDavid Hoover <dhoover@google.com>\n",
      "     1\tJosh Soref <jsoref@users.noreply.github.com>\n",
      "     1\tabayer <abayer@71c3de6d-444a-0410-be80-ed276b4c234a>\n",
      "     1\timod <domi@fortysix.ch>\n",
      "\n",
      "test/src/test/java/hudson/PluginTest.java:\n",
      "\n",
      "     7\tJesse Glick <jglick@cloudbees.com>\n",
      "     1\tKanstantsin Shautsou <kanstantsin.sha@gmail.com>\n"
     ]
    }
   ],
   "source": [
    "print(file_1 + \":\\n\")\n",
    "jenkins_authors = jenkins_repo.git.shortlog(\"-sne\", jenkins_commit, file_1).splitlines()\n",
    "for line in jenkins_authors:\n",
    "    print(line)\n",
    "    \n",
    "print(\"\")\n",
    "print(file_2 + \":\\n\")\n",
    "jenkins_authors = jenkins_repo.git.shortlog(\"-sne\", jenkins_commit, file_2).splitlines()\n",
    "for line in jenkins_authors:\n",
    "    print(line)"
   ]
  },
  {
   "cell_type": "markdown",
   "metadata": {},
   "source": [
    "### Jython"
   ]
  },
  {
   "cell_type": "markdown",
   "metadata": {},
   "source": [
    "__Title, Message, Files Affected, Directories Affected, Lines Deleted & Lines Added - With Comments & Blank Lines:__"
   ]
  },
  {
   "cell_type": "code",
   "execution_count": 9,
   "metadata": {},
   "outputs": [
    {
     "name": "stdout",
     "output_type": "stream",
     "text": [
      "commit 4c337213bd2964bb36cef2d31509b49647ca6f2a\n",
      "Author: Jim Baker <jim.baker@rackspace.com>\n",
      "Date:   Mon Feb 1 20:37:01 2016 -0700\n",
      "\n",
      "    Do not deserialize PyFunction objects. Fixes #2454\n",
      "    \n",
      "    Instead use standard Python pickling; or subclass PyFunction.\n",
      "\n",
      " Lib/test/test_java_integration.py   | 26 ++++++++++++++++++++++----\n",
      " Lib/test/test_new.py                | 31 +++++++++++++++----------------\n",
      " src/org/python/core/PyBytecode.java |  6 ++++++\n",
      " src/org/python/core/PyFunction.java |  3 +++\n",
      " 4 files changed, 46 insertions(+), 20 deletions(-)\n",
      "  89.8% Lib/test/\n",
      "  10.1% src/org/python/core/\n"
     ]
    }
   ],
   "source": [
    "jython_data = jython_repo.git.log(\"--pretty=medium\", \"--stat\", \"--dirstat\", \"-1\", jython_commit).splitlines()\n",
    "for line in jython_data:\n",
    "    print(line)"
   ]
  },
  {
   "cell_type": "markdown",
   "metadata": {},
   "source": [
    "__Title, Message, Files Affected, Directories Affected, Lines Deleted & Lines Added - Without Comments & Blank Lines:__"
   ]
  },
  {
   "cell_type": "code",
   "execution_count": 10,
   "metadata": {},
   "outputs": [
    {
     "name": "stdout",
     "output_type": "stream",
     "text": [
      "commit 4c337213bd2964bb36cef2d31509b49647ca6f2a\n",
      "Author: Jim Baker <jim.baker@rackspace.com>\n",
      "Date:   Mon Feb 1 20:37:01 2016 -0700\n",
      "\n",
      "    Do not deserialize PyFunction objects. Fixes #2454\n",
      "    \n",
      "    Instead use standard Python pickling; or subclass PyFunction.\n",
      "\n",
      " Lib/test/test_java_integration.py   | 25 ++++++++++++++++++++++---\n",
      " Lib/test/test_new.py                | 31 +++++++++++++++----------------\n",
      " src/org/python/core/PyBytecode.java |  6 ++++++\n",
      " src/org/python/core/PyFunction.java |  3 +++\n",
      " 4 files changed, 46 insertions(+), 19 deletions(-)\n",
      "  89.8% Lib/test/\n",
      "  10.1% src/org/python/core/\n"
     ]
    }
   ],
   "source": [
    "jython_data = jython_repo.git.log(\"--pretty=medium\", \"--stat\", \"--dirstat\", \"--ignore-blank-lines\", \"-1\", jython_commit).splitlines()\n",
    "for line in jython_data:\n",
    "    print(line)"
   ]
  },
  {
   "cell_type": "markdown",
   "metadata": {},
   "source": [
    "__Time Since Last Modification & Total Number Of Modifications Since Creation:__"
   ]
  },
  {
   "cell_type": "code",
   "execution_count": 11,
   "metadata": {},
   "outputs": [
    {
     "name": "stdout",
     "output_type": "stream",
     "text": [
      "Lib/test/test_java_integration.py:\n",
      "\n",
      "Mon Feb 1 20:37:01 2016 -0700\n",
      "Sat Apr 18 23:16:43 2015 +0100\n",
      "\n",
      "1: 4c337213b Do not deserialize PyFunction objects. Fixes #2454\n",
      "2: 597532534 Fix minor regression in test_java_integration.\n",
      "3: 14540f16e More robustness wrt security managers, python.home, import of non-ascii names\n",
      "4: 1a2b65205 Allow bound methods as arg for single method interface param.\n",
      "5: fcedbdafd Enable setting the mode and buffersize when a PyFile wraps InputStream and OutputStream objects.\n",
      "6: 44699728d test_java_integration: os.path instead of '/' Fixes test failure on Windows.\n",
      "7: 8220aff30 Ensure that the site module is imported when going through Py#initProxy, if Options.importSite is true (default).\n",
      "8: eb175147b test_java_integration proxy test fixes for Windows. Used os.pathsep and universal_newlines for cross-platform success.\n",
      "9: 2eb65e015 Break assumption in test_java_integration about System.in When test runs interactively, System.in may be a wrapped console library, not a BufferedInputStream.\n",
      "10: 7ffdee6a9 Proxymakers that subclass CustomMaker can now completely control the proxymaking process, including saving bytecode.\n",
      "11: 822187e94 Fixes bug 1878 by resolving complex diamond inheritance of java.lang.Iterable, java.util.Map. Enables interoperation of Jython with Clojure types, including systems that build on Clojure like Storm.\n",
      "12: bec4e79ff Unskip on some improvements.\n",
      "13: 3211e1025 FIXME for probable ASM4 bug.\n",
      "14: 2d5faa938 fix bean properties munging tuples when a PyObject was requested fixes #1833\n",
      "15: 8801d722a fix integration of Java objects w/ a toString method returning null fixes #1819 thanks agronholm\n",
      "16: 56cd3090e Some additional testing of serializability of Jython builtin functions. This was intended for #1604, but actually not necessary.\n",
      "17: 9011241e2 Support copy.copy (through __copy__) of well-known immutable Java types (drawn from java.lang, java.net, java.util). This better matches the copy semantics of Python than Object#clone/Cloneable.\n",
      "18: 803c45c2d Java classes that do not implement Cloneable and/or Serializable will now get null __copy__ and __deepcopy__ methods. We still need to add support of copying immutable Java objects (which do not support Cloneable, but makes sense in Python) to reasonably complete work on issue #1551.\n",
      "19: 2649c9e90 Remove leftover semicolons from translating Java to Python\n",
      "20: d1fb7eb34 Added support for __copy__, __deepcopy__ of Java objects (fixes #1551); and (somewhat) related serialization of PyCode objects (fixes #1601); some unit testing; bumped bytecode magic\n",
      "21: 0148413d8 just skip this for now on Windows so the buildbot is happy\n",
      "22: 8db6cb759 have Java objects' __unicode__ pass-thru the result of their toString fixes #1563\n",
      "23: a153ba987 Reindents.\n",
      "24: 401bee317 Use the Java class name instead of _new_impl for Java constructors.  Fixes issue #1393\n",
      "25: a1a1c2e36 fix subclasses getter properties being disabled when it has a setter and the parent only has a setter thanks doublep fixes #1333\n",
      "26: 03aa30633 rollback to 6418, due to a regression in hudson all\n",
      "27: 453b82f47 quote the policy file if it contains spaces\n",
      "28: 5ae1d9b97 o fix comparison between Java objects of different types patch from Geoffrey French fixes #1338 o avoid test_nonexistent_import_with_security in odd environments like virtualenvs\n",
      "29: eb51d1349 fix type serialization broken by the now fully qualified type names thanks Sergei fixes #1282\n",
      "30: ea1f56be8 Merged revisions 5752,5756-5758,5761-5763,5765-5775,5778-5816,5818-5840,5842-5847,5854,5857-5859,5863-5865,5869,5875,5877,5884-5885,5889-5893,5900-5901,5903-5906,5908,5912-5918,5920,5923,5925,5927,5930-5932,5934-5947,5950-5951,5953-5957,5959,5961,5965-5966,5971-5976,5978-5979,5981-5983,5992,6001,6003,6006-6014,6023,6031-6037,6039-6040,6045-6047,6049-6052,6061-6065,6071 via svnmerge from https://jython.svn.sourceforge.net/svnroot/jython/trunk/jython\n",
      "31: 4dcb7217b Merged revisions 5950-5951,5953-5957,5959,5961,5965-5966,5971-5976,5978-5979,5981-5983,5992,6001,6003,6006-6014,6023,6031-6037,6039-6040 via svnmerge from https://jython.svn.sourceforge.net/svnroot/jython/trunk/jython\n",
      "32: 1fa2810dd Use Python's mro to determine an mro for Java classes and interfaces.  If the Java class has an mro conflict, resolve it by arbitrarily choosing an interface or class.  If an interface or class involved in an mro conflict has had its dict modified, or has its dict modified, raise a TypeError.\n",
      "33: 84d6d2e3e Run the java import * test from a sub-interpreter to allow regrtest to be run with python.cachedir.skip=true\n",
      "34: c43184cfa Expose rich comparision methods on Java classes implementing Comparable\n",
      "35: b1fe93184 Thanks to Marc Downie for this patch that fixes\n",
      "36: 3bd18595a Resurrect some PyJavaClass code to fix bug #1235.\n",
      "37: d7752a2cb Add some tests for overriding attribute lookup and adding mapping methods to wrapped Java types.\n",
      "38: 9c92e3421 test320 - Moved to test_traceback_jy test366,373 - Moved to test_java_integration test391 - Moved to test_java_visibility test395 - Tested by test_java_visibility test396 - Tested by test_java_subclasses\n",
      "39: 9e1c90692 test292 - Moved to test_java_integration test293 - Importing no longer auto-imports submodules; deleted test294 - Moved to test_java_subclasses test295 - Moved to test_traceback test296 - Moved to test_import_jy test297,301,310,313,314,315,317 - Testing jythonc; deleted test298 - Moved to test_import_jy test299,300 - Tested by test_file test303 - Moved to test_java_visibility test307,308 - Moved to test_zipimport_jy test309 - Tested by test_scope test311 - Already disabled; deleted test312 - Moved to test_sax_jy test316 - Moved to test_java_integration test318 - Tested by test_syntax test319 - Moved to test_java_visibility\n",
      "40: 3f1df2962 Split java subclassing tests out of test_java_integration into test_java_subclasses, move unduplicated bits of test_jsubclass into test_java_subclasses.\n",
      "41: 71aa4417f Fixing test288 involved making proxy class method lookup go through __findattr__ on PyObject instead of doing its specialized lookup through the object's dict and type. This means wrapped Java instance method lookup is going through PyObjectDerived's __findattr_ex__ which has a scary comment about its slowness. I'm a little worried this will hurt Java performance, but I'm still holding off on optimizing any of the newstyle java stuff.\n",
      "42: 8193731b8 Expose the underlying_class on proxy types as their Java proxy type such that they properly coerce into java.lang.Class.\n",
      "43: 8e36841e2 test260,264 - Testing jythonc; deleted test261,262 - Tested by test_import test263 - Tested by test_cpickle test265 - Tested by test_java_integration test266 - Tested by test_socket test268,269,270 - Moved to test_java_visibility\n",
      "44: b92e56f01 Try the current thread's context class loader instead of using Class.forName. Fixes issue1216.  The implementation differs from the patch in that it tries SyspathJavaLoader before going to the context class loader so java classes can still be found on sys.path.\n",
      "45: c32e46f36 test207 - Moved to test_unicode_jy test208 - Moved to test_java_visibility test209,211 - Tested by test_cpickle test210 - Tested by test_pickle test212 - Moved to test_str test213 - Tested by test_str test214,217,218,220-224,226-229,237,242,246,249,251-257 - Testing jythonc; deleted test215 - Tested by test_list test219 - Moved to org.python.tests.ExceptionTest test225 - Moved to test_grammar_jy test230,235,239,240 - Not sure what it's testing; deleted test231 - Moved to test_java_integration test232 - Moved to test_java_visibility test233 - Tested by test_import_jy test234 - Tested by test_copy test238 - Was already disabled; deleted test245 - Tested by org.python.util.InterpreterTest test247 - Moved to test_java_integration test248 - Dupe of test247 test250 - Moved to test_java_visibility test258 - Tested by test_import_jy\n",
      "46: 25b394dd8 test132 - Moved to org.python.util. test137 - Tested by test_array_jy test145 - Tested by test_java_integration test146 - Tested by test_java_integration test147 - Tested by test_builtin test148 - Tested by test_str test149 - Moved to test_int_jy test150 - Moved to test_java_visibility test151 - Not sure what it was testing; deleted test152 - Tested by regrtest with the tokenize option test153 - Tested by test_java_integration test154 - Not sure what it was testing; deleted test155 - Subclassing Java Python Types as that class from Python is no longer supported; deleted test156 - Tested by test_jser2 test157 - Moved to test_java_visibility test158 - Tested by test_userdict test159 - Tested by test_exceptions test160 - Seems to be testing Java static calling; deleted test161 - Moved to test_java_visibility test162 - Moved Jython specific test to test_class_jy test163 - Module tests handled by test_class_jy; Java test moved to test_java_visibility test164,test165 - Tested by test_str test166 - Tested by test_exceptions test167 - Moved to test_thread_jy test168 - Tested by test_import test169 - Testing jythonc; deleted test170,test171 - Tested by test_cpickle test172 - Moved to test_java_visibility test173 - Tested by test_builtins test174 - Tested by test_classes test175,test176 - Tested by test_list test177 - Tested by test_userdict test178 - Moved to test_grammar_jy test179 - Tested by test_compiler test180 - Tested by test_builtin test181 - Moved to test_grammar_jy test182 - Testing jythonc; deleted test183 - Tested by test_re test184-199 - Testing jythonc; deleted test200 - Tested by test_java_integration test201 - Testing jythonc; deleted test202,203 - Tested by test_jser2 test204,205 - Moved to test_java_visibility test206 - Tested by test_java_integration\n",
      "47: ff94b9c65 test_091 - moved to test_java_visibility.py test_092 - deleted; not testing anything test_093 - deleted; check of a jythonc hack test_094 - deleted; tested by test_import_jy test_100 - deleted; tested by test_userdict test_101 - deleted; tested by test_jser2 test_104 - moved to test_java_integration.py test_114 - deleted; testing importing Tkinter from someone's i:\\ drive test_116 - moved to test_java_integration.py\n",
      "48: 572f7c9f9 Move the test for assigning on top of a Java method to a class that doesn't cause a headless exception; don't worry about the message, just check that the TypeError is raised\n",
      "49: 3d773d177 forgot to proxy EnumerationIter\n",
      "50: 7ba2b3bbb Move test087 into test_java_integration, and test088 and test090 are tested by test_java_integration and test_imp_jy respectively\n",
      "51: 3533bee22 Move interface test to test_java_integration and add interface overloading test\n",
      "52: 2c20bd28f Hook up container methods for Map separately as it isn't actually a Collection.\n",
      "53: 4e29b1558 Expose static fields through PyBeanProperty if they share a name with the property.  Instance fields supercede the propery.\n",
      "54: ec802e09d Move Java Stream wrapping off into FileUtil so PyFile doesn't have to be exposed as the type file and as the PyJavaClass PyFile\n",
      "55: dd83de830 IOErrors are expected for unsupported file operations, instead of TypeErrors\n",
      "56: eb2f2fc70 Use assertRaises instead of try:   code except ExpectedException:   pass else:   self.fail\n",
      "57: 4c6c6ae34 better name for test method.\n",
      "58: 96e6e5497 moved test136 to test_java_integration.py\n",
      "59: 5e22d35ec moved test131 into test_java_integration\n",
      "60: 650ade450 Don't attempt to test AWT if we have no display.\n",
      "61: e10173f46 More thorough keyword testing.\n",
      "62: ae3ed0331 Changed grammars to allow most keywords to be used as attributes for Java compatibility.  Also added some tests.  Removed a couple of tests that use keywords as function names as this is no longer permitted.  Allowing keywords to be used as arbitrary NAMEs causes very weird grammar issues.  For example\n",
      "63: a65a30e44 Fixed PyUnicode.unicode_center, unicode_left, unicode_right. Merged revisions 4182,4185-4193,4195,4197-4218,4220-4221,4223-4233,4236,4242-4251,4264-4265,4268-4282,4287,4289-4290,4292,4301-4309,4312-4321,4324,4327-4371,4374,4379,4391,4393-4401,4404,4406,4409-4415,4419-4422,4426-4432,4435-4439,4442-4443,4445,4447,4449,4453-4454,4456,4458,4460,4462,4464,4467-4471,4473,4475-4486,4488-4489,4491-4492,4495,4497,4502-4503,4505-4510,4513-4520,4522,4525,4527-4528,4530,4534-4539,4541-4542,4544,4546,4550,4552-4564,4566-4576,4580,4583,4590-4595,4597-4598,4601-4602,4609-4612,4614-4627,4629-4631,4635-4639,4641,4649-4650,4663-4664,4666,4668-4671,4675,4681,4685,4687-4691,4696-4697,4699-4700,4703,4707,4713 via svnmerge from https://jython.svn.sourceforge.net/svnroot/jython/trunk/jython\n",
      "64: d0a74004d Rip out stale code and jythonc support from proxy code\n",
      "65: 5c46b6f35 Tabs to spaces\n",
      "66: 29140ceeb Merged revisions 4092,4096,4098-4114,4117-4120,4122-4132,4134-4135,4138,4140-4141,4143-4144,4146-4153,4156-4157,4159-4160,4162-4164 via svnmerge from https://jython.svn.sourceforge.net/svnroot/jython/trunk/jython\n",
      "67: 2fd39daa2 Migrate bugtests 51-75 into Lib/test from Jens Abraham's work on GHOP task 281: http://code.google.com/p/google-highly-open-participation-psf/issues/detail?id=281\n",
      "68: 6b433bff5 Merged against trunk 3515:4073\n",
      "69: daea01e8f Migrate bugtests 26-50 into Lib/test from Benjamin Petersen's work on GHOP task 280: http://code.google.com/p/google-highly-open-participation-psf/issues/detail?id=280\n",
      "70: fc9f87959 Somehow previous merge did not apply all changes from trunk 3929:4061 (specifically PyBuiltinMethod and new support for wide), so backing out changeset\n",
      "71: 40f0615f2 Merged in changes against trunk from 3929:4061\n",
      "72: d61d150da Regression test for bug #1861985\n",
      "73: 2d1a461e7 Merged and resolved conflicts with the trunk. 8 tests failing in regrtest, vs 3 in trunk.\n",
      "74: 0f7a7babd Merged revisions 3574-3857 via svnmerge from https://jython.svn.sourceforge.net/svnroot/jython/trunk/jython\n",
      "75: cbd4d2bef Convert worthwhile tests in the first 25 bugtests into unittests in Lib/test and toss those that aren't doing anything.\n",
      "\n",
      "\n",
      "Lib/test/test_new.py:\n",
      "\n",
      "Mon Feb 1 20:37:01 2016 -0700\n",
      "Tue Mar 20 14:33:09 2012 -0700\n",
      "\n"
     ]
    },
    {
     "name": "stdout",
     "output_type": "stream",
     "text": [
      "1: 4c337213b Do not deserialize PyFunction objects. Fixes #2454\n",
      "2: 5d94f654f Update test_new.py\n",
      "3: 189129703 Repatched the automatically patchable modules against CPythonLib 2.7 (instead of 2.6 like before)\n",
      "4: a803354c6 Reapply Jython exclusion to test.\n",
      "5: f78ec9fea from https://svn.python.org/projects/python/branches/release26-maint/Lib/test/test_new.py@88766\n",
      "6: ea1f56be8 Merged revisions 5752,5756-5758,5761-5763,5765-5775,5778-5816,5818-5840,5842-5847,5854,5857-5859,5863-5865,5869,5875,5877,5884-5885,5889-5893,5900-5901,5903-5906,5908,5912-5918,5920,5923,5925,5927,5930-5932,5934-5947,5950-5951,5953-5957,5959,5961,5965-5966,5971-5976,5978-5979,5981-5983,5992,6001,6003,6006-6014,6023,6031-6037,6039-6040,6045-6047,6049-6052,6061-6065,6071 via svnmerge from https://jython.svn.sourceforge.net/svnroot/jython/trunk/jython\n",
      "7: 8d116419e maybe 'never' was too strong for new.code in Jython.  Disable test for now.\n",
      "8: e86f33ca4 from http://svn.python.org/projects/python/branches/release25-maint/Lib/test/test_new@52060\n",
      "\n",
      "\n",
      "Lib/test/test_new.py:\n",
      "\n",
      "Mon Feb 1 20:37:01 2016 -0700\n",
      "Fri Feb 13 05:09:50 2015 +0100\n",
      "\n",
      "1: 4c337213b Do not deserialize PyFunction objects. Fixes #2454\n",
      "2: f6130272a Various doc- and style-improvements.\n",
      "3: 76b4b512f Fixed issue 2224 and added a CPython-like Traverseproc-mechanism along with some enhancements to the gc-module. For details see doc of org.python.modules.gc. While it is optional, we recommend for PyObject-subclasses to implement the Traverseproc-mechanism (all PyObject-subclasses bundeled with Jython already do). For instructions see the docs in org.python.core.Traverseproc and org.python.core.Untraversable. Note that this commit also simplifies the implementation of finalizable PyObject-subclasses, i.e. one does not need to declare a finalizeTrigger-field any more. Doc in FinalizablePyObject was updated accordingly.\n",
      "4: 3e64ed845 these are now done\n",
      "5: 9e7318c3d optimize the interpreter's stack impl by using a plain array fixes #1951 thanks Wei Zhang\n",
      "6: 002661af6 Applied fixes to problems found by findbugs.\n",
      "7: 737a64fff Py.matchException -> PyException.match Oh Py.matchException, how I loathe thee\n",
      "8: e0aa6f972 Patched the compiler paths for type stafety. The kind is now an enum (from builtin.compile and down) The compile methods now return PyCode (from builtin.compile and down) This simplifies the compiler paths, the check for if AST or code should be returned is now in only one place and the parser dispatch is simpler(less code)\n",
      "9: 753c7da33 Use a PyList instead to store the block stack for the PBC-VM.\n",
      "10: 6c68b76ad Now uses CompilerFlags instead of the co_flags bit vector uniformly in the code. This change enables more programmatic direction of the compiler, including at the very least the desired compiler (once we include more than one!).\n",
      "11: ea1f56be8 Merged revisions 5752,5756-5758,5761-5763,5765-5775,5778-5816,5818-5840,5842-5847,5854,5857-5859,5863-5865,5869,5875,5877,5884-5885,5889-5893,5900-5901,5903-5906,5908,5912-5918,5920,5923,5925,5927,5930-5932,5934-5947,5950-5951,5953-5957,5959,5961,5965-5966,5971-5976,5978-5979,5981-5983,5992,6001,6003,6006-6014,6023,6031-6037,6039-6040,6045-6047,6049-6052,6061-6065,6071 via svnmerge from https://jython.svn.sourceforge.net/svnroot/jython/trunk/jython\n",
      "12: 575be8c98 LineCache implementation to support efficient setline edge detection, as necessary for tracing.\n",
      "13: 85ce4ea2b Added support for code.getlineno (using co_lnotab), co_code, co_consts, co_lnotab. co_code and co_lnotab now use byte[] for a more compact representation and then manage accessing as if it were an unsigned representation.\n",
      "14: f6ed243b0 Fixed UNPACK_SEQUENCE so that ValueError is raised if too few/too many values to unpack.\n",
      "15: e6b62b257 Fixed WITH_CLEANUP so that it properly calls __exit__ with the exception components off the stack.\n",
      "16: 1398dca9b LOAD_DEREF needs to do the same lookup as LOAD_CLOSURE. Populate doc strings for MAKE_CLOSURE.\n",
      "17: d64853099 Set the traceback when intercepting an exception. Set __doc__ strings for functions from the constant pool (if available).\n",
      "18: a20a834bb Now interns names in co_names, etc., when unmarshalling, which fixes equality tests on special case like __class__, __dict__, etc.\n",
      "19: 2543a15e2 Fixed control flow by pushing the wrapped Why onto the stack (instead of its string representation from the earliest version of this code).\n",
      "20: 4f8923bda Further refinement of nested scopes.\n",
      "21: ab2560ce3 Fixes nested scope treatment of free variables.\n",
      "22: 7ce9bf823 Fixed IMPORT_STAR for nested modules. sys.exc_info now returns Py.None for the traceback (this fixes an issue in PBC where null is being used as both a sentinel value by __getitem__ AND an actual value for exception handling).\n",
      "23: 1d0367b49 Fixed stack ops (DUP_TOPX, ROT_THREE, ROT_FOUR), INPLACE_POWER.\n",
      "24: 978f3ec86 Fixed slice, exec support.\n",
      "25: 1ab6eb60b Fixed some cellvar/freevar nested scope issues, with work to continue.\n",
      "26: b151331e9 extract.py now creates modules where codeobjects respect their dependency relationships (via a tsort).\n",
      "27: 51d8e2142 Fixed RAISE_VARARGS opcode to raise exceptions properly.\n",
      "28: 8bf301a96 Fixed opcode support for LOAD/STORE/DELETE_NAME and BUILD_CLASS.\n",
      "29: 231a979c6 Fixed raising of exceptions and PyStack.rot\n",
      "30: fb41f2869 Added extract tool (to be run by CPython) for creating test modules.\n",
      "31: 842a85d89 Properly handles *args, **kwargs for the receiver function. func_code can now be set to a PyBytecode (or other extender of PyBaseCode). Turned off debugging by default for PyBytecode objects.\n",
      "32: f23faa1be Supports throwing exceptions into generators.\n",
      "33: fdbb64825 Added support for basic coroutines (no support for throw) and generator expressions.\n",
      "34: b7c6e42d3 Added support for keyword args, *arg, and **kwarg calling conventions.\n",
      "35: 8a631fbfe Now supports generators, via the standard PyGenerator protocol.\n",
      "36: 69eb367a9 Basic generators are almost supported.\n",
      "37: ff143312b Added support for try/except and try/finally blocks (and their combination).\n",
      "38: ad27a82d0 Fixed binary and inplace bytecodes to use the proper methods. Added block support to support iteration.\n",
      "39: 1923df180 Initial commit.\n",
      "\n",
      "\n",
      "Lib/test/test_new.py:\n",
      "\n",
      "8830d68f5f [SECURITY-717] Plugin.doDynamic check for WEB-INF or META-INF should be case-insensitive.\n",
      "eb03a42078 [SECURITY-705] Path traversal vulnerability in Plugin.doDynamic.\n",
      "a2ba196e63 test-annotations -> 1.2\n",
      "2852afa96e comment\n",
      "f0a29b562e [FIXED SECURITY-155] Do not allow plugin code to be downloaded via doDynamic, only static resources.\n",
      "a623c8e30d Using proper @Issue annotation.\n",
      "71a28615e3 [FIXED SECURITY-131] Recode restOfPath before constructing URLs from it, so it cannot be used for directory traversal.\n",
      "b1c82f1e30 stephenc asks to use TODO rather than XXX\n",
      "688420177a [FIXED JENKINS-17933] Catch errors in init.groovy.\n",
      "fd31a5d85c [FIXED JENKINS-15309] Be robust against serialized ListView with jobNames==null.\n",
      "a8ba1162a3 Introduced MockFolder for testing.\n",
      "2658f36994 Basic implementation of prevalidateConfig working.\n",
      "06d4cf11a1 integrated custom annotation checker\n",
      "1a1d0d74d5 license header clean up\n",
      "17cecbc66b added another marker annotation.\n",
      "\n",
      "1: 4c337213b Do not deserialize PyFunction objects. Fixes #2454\n",
      "2: 76b4b512f Fixed issue 2224 and added a CPython-like Traverseproc-mechanism along with some enhancements to the gc-module. For details see doc of org.python.modules.gc. While it is optional, we recommend for PyObject-subclasses to implement the Traverseproc-mechanism (all PyObject-subclasses bundeled with Jython already do). For instructions see the docs in org.python.core.Traverseproc and org.python.core.Untraversable. Note that this commit also simplifies the implementation of finalizable PyObject-subclasses, i.e. one does not need to declare a finalizeTrigger-field any more. Doc in FinalizablePyObject was updated accordingly.\n",
      "3: 56f9ec75d Rework function attributes support.\n",
      "4: 9b4b0c663 Revert allowing unicode in names.\n",
      "5: 5bcf224ec Check for BaseString so unicode is legal.\n",
      "6: 8409a0512 Added __globals__ and __code__ to PyFunction.\n",
      "7: a5de242da Added an update/fix for the automatic coercion of PyFunction to single method interfaces.\n",
      "8: 490a06017 Added an initial implementation of automatic coercion of function objects to any single method interface.\n",
      "9: 0a8622aa6 docs galore, enable test_descr.descrdoc\n",
      "10: 78a7431e7 add support for specifying docstrings in ExposedType/ExposedGet annotations. exposed type.__doc__, which for the most part removes the need for PyObject.getDoc\n",
      "11: 652f3d42b rearrange/cleanup by exposing __call__ with ThreadState\n",
      "12: 4043e2c68 pass the cached type through constructors\n",
      "13: 182f82ee6 Applying my callpath.patch (from previous commit). This is probably the only performance improvement I'll add before 2.5 goes RC.\n",
      "14: ea1f56be8 Merged revisions 5752,5756-5758,5761-5763,5765-5775,5778-5816,5818-5840,5842-5847,5854,5857-5859,5863-5865,5869,5875,5877,5884-5885,5889-5893,5900-5901,5903-5906,5908,5912-5918,5920,5923,5925,5927,5930-5932,5934-5947,5950-5951,5953-5957,5959,5961,5965-5966,5971-5976,5978-5979,5981-5983,5992,6001,6003,6006-6014,6023,6031-6037,6039-6040,6045-6047,6049-6052,6061-6065,6071 via svnmerge from https://jython.svn.sourceforge.net/svnroot/jython/trunk/jython\n",
      "15: 842a85d89 Properly handles *args, **kwargs for the receiver function. func_code can now be set to a PyBytecode (or other extender of PyBaseCode). Turned off debugging by default for PyBytecode objects.\n",
      "16: 1923df180 Initial commit.\n",
      "17: 2cb73abe2 __doc__ for classmethod, instancemethod, bool, function.\n",
      "18: 170245d19 Merged revisions 5565,5568-5584,5593,5596,5598-5604,5606,5608-5611,5616,5618-5621,5624,5626-5627,5629-5630,5639-5640,5644-5648,5655,5661 via svnmerge from https://jython.svn.sourceforge.net/svnroot/jython/trunk/jython\n",
      "19: 3e797b644 Merged revisions 5616,5618-5621,5624,5626-5627,5629-5630 via svnmerge from https://jython.svn.sourceforge.net/svnroot/jython/trunk/jython\n",
      "20: 17b4e633a disallow sublcassing a number of types fixes #1758319\n",
      "21: 60eeeceb7 Now String is mapped to PyUnicode on ClassicPyObjectAdapter (instead of mapping it to PyString). Thus, for APIs which really need to return bytestrings (such as PyFile) we now have to explicitely declare the return type as PyString (and on code written in Python, use StringUtil.asPyString(String)). Fixes #1128\n",
      "22: a65a30e44 Fixed PyUnicode.unicode_center, unicode_left, unicode_right. Merged revisions 4182,4185-4193,4195,4197-4218,4220-4221,4223-4233,4236,4242-4251,4264-4265,4268-4282,4287,4289-4290,4292,4301-4309,4312-4321,4324,4327-4371,4374,4379,4391,4393-4401,4404,4406,4409-4415,4419-4422,4426-4432,4435-4439,4442-4443,4445,4447,4449,4453-4454,4456,4458,4460,4462,4464,4467-4471,4473,4475-4486,4488-4489,4491-4492,4495,4497,4502-4503,4505-4510,4513-4520,4522,4525,4527-4528,4530,4534-4539,4541-4542,4544,4546,4550,4552-4564,4566-4576,4580,4583,4590-4595,4597-4598,4601-4602,4609-4612,4614-4627,4629-4631,4635-4639,4641,4649-4650,4663-4664,4666,4668-4671,4675,4681,4685,4687-4691,4696-4697,4699-4700,4703,4707,4713 via svnmerge from https://jython.svn.sourceforge.net/svnroot/jython/trunk/jython\n",
      "23: 709ff4370 Merged revisions 4416-4445 via svnmerge from https://jython.svn.sourceforge.net/svnroot/jython/trunk/jython\n",
      "24: 857ca04ce Merged revisions 4442-4443 via svnmerge from https://jython.svn.sourceforge.net/svnroot/jython/trunk/jython\n",
      "25: 868385f69 fix function, method and slot descriptors always requiring 2 args pointed out by lsoto\n",
      "26: b7cf27674 Merged revisions 4406,4409-4415 via svnmerge from https://jython.svn.sourceforge.net/svnroot/jython/trunk/jython\n",
      "27: 1af61513f Merged revisions 4326-4415 via svnmerge from https://jython.svn.sourceforge.net/svnroot/jython/trunk/jython\n",
      "28: d777518a5 more appropriate method name\n",
      "29: 3c3bb5c5e more ExposedGet now translating null for us\n",
      "30: 991e73fe5 maintain func_defaults and func_closure as null instead of Py.EmptyObjects/EmptyTuple, to more closely resemble CPython\n",
      "31: 710a2dac5 Merged revisions 4391,4393-4401 via svnmerge from https://jython.svn.sourceforge.net/svnroot/jython/trunk/jython\n",
      "32: 65e74ea9d o match types.MethodType() (new PyMethod()) args to CPython's: (func, self, type) instead of (self, func, type) o kill most of newmodule for the simpler pure python version. we can't dump it completely until a better workaround for the new.classobj hack is done; in the meantime, keep it around at _new.classobj\n",
      "33: 6b3dd41c6 o cleanup PyFunction, use exposed annotations o copy the new.function arg checking code into PyFunction __new__, so types.FunctionType supports the same args. add test_func_jy with jek's test cases o add cell.cell_contents and an appropriate repr. use exposed annotations fixes #1034 thanks Jason Kirtland\n",
      "34: c4e0a67fd more 'at' in repr\n",
      "35: c5987ff54 Merged revisions 4167-4180 via svnmerge from https://jython.svn.sourceforge.net/svnroot/jython/trunk/jython\n",
      "36: 9e6064bc0 small change to more closely resemble CPython's code\n",
      "37: 9fd77fbf6 allow modification of func_defaults and sync test_funcattrs to: http://svn.python.org/projects/python/branches/release23-maint/Lib/test/test_funcattrs.py@31088\n",
      "38: 29140ceeb Merged revisions 4092,4096,4098-4114,4117-4120,4122-4132,4134-4135,4138,4140-4141,4143-4144,4146-4153,4156-4157,4159-4160,4162-4164 via svnmerge from https://jython.svn.sourceforge.net/svnroot/jython/trunk/jython\n",
      "39: 24f563ee8 fallthrough method's __name__ and __doc__ to the underlying callable instead of copying them. fixes the fact that we weren't always copying them\n",
      "40: e5431059d kill safeRepr, which is really just an older, bogus way of getting the type name. use getType().fastGetName() instead\n",
      "41: 2c4c33887 Merged trunk 3744 to 3515 onto branch\n",
      "42: 37b284361 patch #1800472 from tristanlk to add __module__ to functions\n",
      "43: cf6948e52 Merged revisions 3471-3474,3479-3480 via svnmerge from https://jython.svn.sourceforge.net/svnroot/jython/trunk\n",
      "44: 933f3d6d8 s/jpython/jython/g in Lib, Tools and src dirs, except in a few places when referring to historical JPython versions\n",
      "45: c4458b734 Created src directory.\n",
      "46: 282feaffc Fixes for test_funcattrs.py. Also set test_longexpepy to be skipped in Jython (method length limits in the JVM prevent expressions of that length).\n",
      "47: 137c50665 We now pass the bulk of test_descrtut (up to slots which are not implemented and the fact that list is not been ported to newstyle-way).\n",
      "48: b9f802fd7 * Initial surgery separating classic (& java) instances __class__ field (now .instclass) from first-class type PyObject field (was also __class__, now private objtype), for backward comp maybe one of the two may return to be named__class__. This is the first pass to be able to  implement  first-class types separated from classic behavior.  Well new-style classes offer classes that are CPython types. Jython had  types that were \"classic\" classes insomuch as Java classes were derivative of classic classes, that's why the u-turn. We can probably live for a while with java classes still classic, there are various approaches to how to move them in the new world.\n",
      "49: 7d9e768b4 Eventually implemented correct id(.).\n",
      "50: 33bd2b026 Disallow None as function __dict__ value (new in 2.2).\n",
      "51: e240387f0 Long line normalization.\n",
      "52: ce007a0ee Whitespace normalization.\n",
      "53: 1033f5b9a Fix for \"[ #457614 ] pls change &copyright; to (c) in sources\".\n",
      "54: 134d3585e nested scopes *future* support (as CPython 2.1)\n",
      "55: a069e712d __findattr__(): Make an unassigned __dict__ return None.\n",
      "56: 2a1b25f50 Added javadoc comments.\n",
      "57: 90d2af22a __delattr__(): Make __doc__ del'able.\n",
      "58: d657a219d Consistent formatting. Keep lines shorter than 78 chars.\n",
      "59: 75b45b388 Consistent formatting. Removed traling spaces and tabs.\n",
      "60: 054bfe856 Support for Function Attributes (pep-0232).\n",
      "61: ecad01ac5 Add enough isXXXType() methods to keep test_operator happy.\n",
      "62: 1fc250dff Fixes for PR#192, specifically:\n",
      "63: 57d4fa1eb A reworking of the binding mechanism used for PyMethods.\n",
      "64: 572265162 untabified (use all spaces in indentation)\n",
      "65: f572f7cd6 intermediate\n",
      "66: fdd0a65b0 Optimize function calls with 0-3 arguments (no creation of PyObject[]'s in this case, also simpler arg processing)\n"
     ]
    }
   ],
   "source": [
    "file_1 = \"Lib/test/test_java_integration.py\"\n",
    "file_2 = \"Lib/test/test_new.py\"\n",
    "file_3 = \"src/org/python/core/PyBytecode.java\"\n",
    "file_4 = \"src/org/python/core/PyFunction.java\"\n",
    "\n",
    "count = 0\n",
    "print(file_1 + \":\\n\")\n",
    "jython_data = jython_repo.git.log(\"--follow\", \"-n 2\", \"--format=%ad\", jython_commit, file_1).splitlines()\n",
    "for line in jython_data:\n",
    "    print(line)\n",
    "    \n",
    "print(\"\")\n",
    "jython_data = jython_repo.git.log(\"--follow\", \"--oneline\", jython_commit, file_1).splitlines()\n",
    "for line in jython_data:\n",
    "    count += 1\n",
    "    print(str(count) + \": \" + line)\n",
    "    \n",
    "count = 0\n",
    "print(\"\\n\")\n",
    "print(file_2 + \":\\n\")\n",
    "jython_data = jython_repo.git.log(\"--follow\", \"-n 2\", \"--format=%ad\", jython_commit, file_2).splitlines()\n",
    "for line in jython_data:\n",
    "    print(line)\n",
    "    \n",
    "print(\"\")\n",
    "jython_data = jython_repo.git.log(\"--follow\", \"--oneline\", jython_commit, file_2).splitlines()\n",
    "for line in jython_data:\n",
    "    count += 1\n",
    "    print(str(count) + \": \" + line)\n",
    "    \n",
    "count = 0\n",
    "print(\"\\n\")\n",
    "print(file_2 + \":\\n\")\n",
    "jython_data = jython_repo.git.log(\"--follow\", \"-n 2\", \"--format=%ad\", jython_commit, file_3).splitlines()\n",
    "for line in jython_data:\n",
    "    print(line)\n",
    "    \n",
    "print(\"\")\n",
    "jython_data = jython_repo.git.log(\"--follow\", \"--oneline\", jython_commit, file_3).splitlines()\n",
    "for line in jython_data:\n",
    "    count += 1\n",
    "    print(str(count) + \": \" + line)\n",
    "    \n",
    "count = 0\n",
    "print(\"\\n\")\n",
    "print(file_2 + \":\\n\")\n",
    "jython_data = jython_repo.git.log(\"--follow\", \"-n 2\", \"--format=%ad\", jython_commit, file_4).splitlines()\n",
    "for line in jenkins_data:\n",
    "    print(line)\n",
    "    \n",
    "print(\"\")\n",
    "jython_data = jython_repo.git.log(\"--follow\", \"--oneline\", jython_commit, file_4).splitlines()\n",
    "for line in jython_data:\n",
    "    count += 1\n",
    "    print(str(count) + \": \" + line)"
   ]
  },
  {
   "cell_type": "markdown",
   "metadata": {},
   "source": [
    "__Developers & Their Number Of Commits:__"
   ]
  },
  {
   "cell_type": "code",
   "execution_count": 12,
   "metadata": {},
   "outputs": [
    {
     "name": "stdout",
     "output_type": "stream",
     "text": [
      "Lib/test/test_java_integration.py:\n",
      "\n",
      "    29\tCharlie Groves <charlie.groves@gmail.com>\n",
      "     9\tFrank Wierzbicki <fwierzbicki@gmail.com>\n",
      "     9\tPhilip Jenvey <pjenvey@underboss.org>\n",
      "     6\tJim Baker <jim.baker@rackspace.com>\n",
      "     5\tJim Baker <jbaker@zyasoft.com>\n",
      "     4\tJeff Allen <ja.py@farowl.co.uk>\n",
      "     2\tOti Humbel <ohumbel@gmail.com>\n",
      "     1\tIndra Talip <indra.talip@gmail.com>\n",
      "     1\tNicholas Riley <nriley@sabi.net>\n",
      "\n",
      "Lib/test/test_new.py:\n",
      "\n",
      "     5\tFrank Wierzbicki <fwierzbicki@gmail.com>\n",
      "     1\tAlex Grönholm <alex.gronholm@nextday.fi>\n",
      "     1\tJim Baker <jim.baker@rackspace.com>\n",
      "\n",
      "src/org/python/core/PyBytecode.java:\n",
      "\n",
      "    31\tJim Baker <jbaker@zyasoft.com>\n",
      "     3\tPhilip Jenvey <pjenvey@underboss.org>\n",
      "     2\tStefan Richthofer <stefan.richthofer@gmx.de>\n",
      "     1\tJim Baker <jim.baker@rackspace.com>\n",
      "     1\tTobias Ivarsson <tobias@thobe.org>\n",
      "\n",
      "src/org/python/core/PyFunction.java:\n",
      "\n",
      "    17\tPhilip Jenvey <pjenvey@underboss.org>\n",
      "     7\tFrank Wierzbicki <fwierzbicki@gmail.com>\n",
      "     3\tTobias Ivarsson <tobias@thobe.org>\n",
      "     2\tJim Baker <jbaker@zyasoft.com>\n",
      "     2\tJim Baker <jim.baker@rackspace.com>\n",
      "     1\tCharlie Groves <charlie.groves@gmail.com>\n",
      "     1\tLeo Soto <leo.soto@gmail.com>\n",
      "     1\tStefan Richthofer <stefan.richthofer@gmx.de>\n"
     ]
    }
   ],
   "source": [
    "print(file_1 + \":\\n\")\n",
    "jython_authors = jython_repo.git.shortlog(\"-sne\", jython_commit, file_1).splitlines()\n",
    "for line in jython_authors:\n",
    "    print(line)\n",
    "    \n",
    "print(\"\")\n",
    "print(file_2 + \":\\n\")\n",
    "jython_authors = jython_repo.git.shortlog(\"-sne\", jython_commit, file_2).splitlines()\n",
    "for line in jython_authors:\n",
    "    print(line)\n",
    "    \n",
    "print(\"\")\n",
    "print(file_3 + \":\\n\")\n",
    "jython_authors = jython_repo.git.shortlog(\"-sne\", jython_commit, file_3).splitlines()\n",
    "for line in jython_authors:\n",
    "    print(line)\n",
    "    \n",
    "print(\"\")\n",
    "print(file_4 + \":\\n\")\n",
    "jython_authors = jython_repo.git.shortlog(\"-sne\", jython_commit, file_4).splitlines()\n",
    "for line in jython_authors:\n",
    "    print(line)"
   ]
  },
  {
   "cell_type": "markdown",
   "metadata": {},
   "source": [
    "### Camel"
   ]
  },
  {
   "cell_type": "markdown",
   "metadata": {},
   "source": [
    "__Title, Message, Files Affected, Directories Affected, Lines Deleted & Lines Added - With Comments & Blank Lines:__"
   ]
  },
  {
   "cell_type": "code",
   "execution_count": 13,
   "metadata": {},
   "outputs": [
    {
     "name": "stdout",
     "output_type": "stream",
     "text": [
      "commit 9c6a8f61de40c20f28240fbb2af4cb425793d41e\n",
      "Author: Stephan Siano <stephan.siano@sap.com>\n",
      "Date:   Mon Feb 27 07:17:50 2017 +0100\n",
      "\n",
      "    CAMEL-10894: Improve test fix\n",
      "\n",
      " .../main/java/org/apache/camel/processor/validation/SchemaReader.java   | 2 +-\n",
      " 1 file changed, 1 insertion(+), 1 deletion(-)\n",
      " 100.0% camel-core/src/main/java/org/apache/camel/processor/validation/\n"
     ]
    }
   ],
   "source": [
    "camel_data = camel_repo.git.show(\"--pretty=medium\", \"--stat\", \"--dirstat\", \"-1\", camel_commit).splitlines()\n",
    "for line in camel_data:\n",
    "    print(line)"
   ]
  },
  {
   "cell_type": "markdown",
   "metadata": {},
   "source": [
    "__Title, Message, Files Affected, Directories Affected, Lines Deleted & Lines Added - Without Comments & Blank Lines:__"
   ]
  },
  {
   "cell_type": "code",
   "execution_count": 14,
   "metadata": {},
   "outputs": [
    {
     "name": "stdout",
     "output_type": "stream",
     "text": [
      "commit 9c6a8f61de40c20f28240fbb2af4cb425793d41e\n",
      "Author: Stephan Siano <stephan.siano@sap.com>\n",
      "Date:   Mon Feb 27 07:17:50 2017 +0100\n",
      "\n",
      "    CAMEL-10894: Improve test fix\n",
      "\n",
      " .../main/java/org/apache/camel/processor/validation/SchemaReader.java   | 2 +-\n",
      " 1 file changed, 1 insertion(+), 1 deletion(-)\n",
      " 100.0% camel-core/src/main/java/org/apache/camel/processor/validation/\n"
     ]
    }
   ],
   "source": [
    "camel_data = camel_repo.git.show(\"--pretty=medium\", \"--stat\", \"--dirstat\", \"--ignore-blank-lines\", \"-1\", camel_commit).splitlines()\n",
    "for line in camel_data:\n",
    "    print(line)"
   ]
  },
  {
   "cell_type": "markdown",
   "metadata": {},
   "source": [
    "__Time Since Last Modification & Total Number Of Modifications Since Creation:__"
   ]
  },
  {
   "cell_type": "code",
   "execution_count": 15,
   "metadata": {},
   "outputs": [
    {
     "name": "stdout",
     "output_type": "stream",
     "text": [
      "camel-core\\src\\main\\java\\org\\apache\\camel\\processor\\validation\\SchemaReader.java:\n",
      "\n",
      "Mon Feb 27 07:17:50 2017 +0100\n",
      "Sat Feb 25 16:59:31 2017 +0900\n",
      "\n",
      "1: 9c6a8f61de4 CAMEL-10894: Improve test fix\n",
      "2: 2e8f21dec88 CAMEL-10894 Fixed test failure\n",
      "3: 8afc5d17577 CAMEL-10894:  DTD handling in the XML Validator corrected\n",
      "4: 9e4ef7d3652 Fixed few javadoc warnings\n",
      "5: a7d04c7efd4 CAMEL-9572: correction in SchemaReader\n",
      "6: 77e079a8386 CAMEL-9572: Validator: clearSchemaCache method refactored\n",
      "7: 115cb3affbe CAMEL-9517: Validator Endpoint- clearCachedSchema added\n"
     ]
    }
   ],
   "source": [
    "file_1 = \"camel-core\\\\src\\\\main\\\\java\\\\org\\\\apache\\\\camel\\\\processor\\\\validation\\\\SchemaReader.java\"\n",
    "\n",
    "count = 0\n",
    "print(file_1 + \":\\n\")\n",
    "camel_data = camel_repo.git.log(\"--follow\", \"-n 2\", \"--format=%ad\", camel_commit, file_1).splitlines()\n",
    "for line in camel_data:\n",
    "    print(line)\n",
    "    \n",
    "print(\"\")\n",
    "camel_data = camel_repo.git.log(\"--follow\", \"--oneline\", camel_commit, file_1).splitlines()\n",
    "for line in camel_data:\n",
    "    count += 1\n",
    "    print(str(count) + \": \" + line)"
   ]
  },
  {
   "cell_type": "markdown",
   "metadata": {},
   "source": [
    "__Developers & Their Number Of Commits:__"
   ]
  },
  {
   "cell_type": "code",
   "execution_count": 16,
   "metadata": {},
   "outputs": [
    {
     "name": "stdout",
     "output_type": "stream",
     "text": [
      "camel-core\\src\\main\\java\\org\\apache\\camel\\processor\\validation\\SchemaReader.java:\n",
      "\n",
      "     4\tFranz Forsthofer <franz.forsthofer@sap.com>\n",
      "     1\tStephan Siano <stephan.siano@sap.com>\n",
      "     1\tTomohisa Igarashi <tm.igarashi@gmail.com>\n",
      "     1\taldettinger <aldettinger@gmail.com>\n"
     ]
    }
   ],
   "source": [
    "print(file_1 + \":\\n\")\n",
    "camel_authors = camel_repo.git.shortlog(\"-sne\", camel_commit, file_1).splitlines()\n",
    "for line in camel_authors:\n",
    "    print(line)"
   ]
  }
 ],
 "metadata": {
  "kernelspec": {
   "display_name": "Python 3",
   "language": "python",
   "name": "python3"
  },
  "language_info": {
   "codemirror_mode": {
    "name": "ipython",
    "version": 3
   },
   "file_extension": ".py",
   "mimetype": "text/x-python",
   "name": "python",
   "nbconvert_exporter": "python",
   "pygments_lexer": "ipython3",
   "version": "3.7.3"
  }
 },
 "nbformat": 4,
 "nbformat_minor": 2
}
